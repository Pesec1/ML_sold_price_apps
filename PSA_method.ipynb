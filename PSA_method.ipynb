{
  "cells": [
    {
      "cell_type": "code",
      "metadata": {
        "jukit_cell_id": "xNSC4t310i"
      },
      "source": [],
      "outputs": [],
      "execution_count": null
    },
    {
      "cell_type": "code",
      "metadata": {
        "jukit_cell_id": "PeaOCcJE2L"
      },
      "source": [
        "import pandas as pd\n",
        "import numpy as np\n",
        "import matplotlib.pyplot as plt\n",
        "\n",
        "from sklearn.model_selection import train_test_split\n",
        "from sklearn.preprocessing import MinMaxScaler"
      ],
      "outputs": [],
      "execution_count": null
    },
    {
      "cell_type": "code",
      "metadata": {
        "jukit_cell_id": "Y4noTI0TuQ"
      },
      "source": [
        "df = pd.read_csv(\n",
        "    \"D:\\\\testfolder\\\\test_exercise\\\\output_data\\\\sold_flats_cat_num.csv\", delimiter=\",\"\n",
        ")"
      ],
      "outputs": [],
      "execution_count": null
    },
    {
      "cell_type": "code",
      "metadata": {
        "jukit_cell_id": "uSsEhd7DBQ"
      },
      "source": [
        "df"
      ],
      "outputs": [],
      "execution_count": null
    },
    {
      "cell_type": "code",
      "metadata": {
        "jukit_cell_id": "3LvuD7FPL8"
      },
      "source": [
        "cat_columns = [\n",
        "    \"city_id\",\n",
        "    \"district_id\",\n",
        "    \"street_id\",\n",
        "    \"date_sold\",\n",
        "    \"metro_station_id\",\n",
        "    \"flat_on_floor\",\n",
        "    \"builder_id\",\n",
        "    \"type\",\n",
        "    \"bathroom\",\n",
        "    \"plate\",\n",
        "    \"windows\",\n",
        "    \"keep\",\n",
        "    \"series_id\",\n",
        "    \"wall_id\",\n",
        "    \"balcon\",\n",
        "    \"closed_yard\",\n",
        "    \"date_sold\",\n",
        "]\n",
        "num_columns = [\n",
        "    \"price\",\n",
        "    \"sold_price\",\n",
        "    \"floor_num\",\n",
        "    \"floors_cnt\",\n",
        "    \"rooms_cnt\",\n",
        "    \"bedrooms_cnt\",\n",
        "    \"building_year\",\n",
        "    \"area_total\",\n",
        "    \"area_live\",\n",
        "    \"area_kitchen\",\n",
        "    \"area_balcony\",\n",
        "    \"levels_count\",\n",
        "    \"bathrooms_cnt\",\n",
        "    \"ceiling_height\",\n",
        "]"
      ],
      "outputs": [],
      "execution_count": null
    },
    {
      "cell_type": "code",
      "metadata": {
        "jukit_cell_id": "eu3155tSMu"
      },
      "source": [
        "class PCA:\n",
        "    def __init__(self, n_components):\n",
        "        self.n_components = n_components\n",
        "        self.components = None\n",
        "        self.values = None\n",
        "        self.mean = None\n",
        "\n",
        "    # --------------------------------\n",
        "    def fit(self, X):\n",
        "        self.mean = np.mean(X, axis=0)\n",
        "\n",
        "        # \u0440\u0430\u0441\u0447\u0435\u0442 \u043c\u0430\u0442\u0440\u0438\u0446\u044b \u043a\u043e\u0432\u0430\u0440\u0438\u0430\u0446\u0438\u0438\n",
        "        cov_matrix = np.cov(X - self.mean, rowvar=False)\n",
        "\n",
        "        eigenvalues, eigenvectors = np.linalg.eig(cov_matrix)\n",
        "\n",
        "        idx = eigenvalues.argsort()[\n",
        "            ::-1\n",
        "        ]  # \u0438\u043d\u0434\u0435\u043a\u0441\u044b \u0441\u043e\u0440\u0442\u0438\u0440\u043e\u0432\u043a\u0438 \u043f\u043e \u0437\u043d\u0430\u0447\u0435\u043d\u0438\u044f\u043c \u0441\u043e\u0431\u0441\u0442\u0432\u0435\u043d\u043d\u044b\u0445 \u0432\u0435\u043a\u0442\u043e\u0440\u043e\u0432\n",
        "\n",
        "        # \u0441\u043e\u0440\u0442\u0438\u0440\u0443\u0435\u043c \u0441\u043e\u0431\u0441\u0442\u0432\u0435\u043d\u043d\u044b\u0435 \u0432\u0435\u043a\u0442\u043e\u0440\u0430 \u0438 \u0437\u043d\u0430\u0447\u0435\u043d\u0438\u044f\n",
        "        self.components = eigenvectors[:, idx][:, : self.n_components]\n",
        "        self.values = eigenvalues[idx]\n",
        "\n",
        "        return self\n",
        "\n",
        "    # --------------------------------\n",
        "    def transform(self, X):\n",
        "        X = X - self.mean\n",
        "        return np.dot(X, self.components)\n",
        "\n",
        "    # --------------------------------\n",
        "    def fit_transform(self, X):\n",
        "        return self.fit(X).transform(X)\n",
        "\n",
        "    # --------------------------------\n",
        "    def inverse_transform(self, X_new):\n",
        "        return np.dot(X_new, self.components.T) + self.mean\n",
        "\n",
        "    # --------------------------------\n",
        "    def score(self, X):\n",
        "        SStot = np.sum(np.square(X - np.mean(X)))\n",
        "        SSres = np.sum(np.square(X - self.inverse_transform(self.fit_transform(X))))\n",
        "        return 1 - SSres / SStot\n",
        "\n",
        "    # --------------------------------\n",
        "    def plot_eigvalues(self, figsize=(12, 4)):\n",
        "        plt.figure(figsize=figsize)\n",
        "        plt.plot(self.values, \"-o\", label=\"all eigvalues\")\n",
        "        plt.plot(self.values[: self.n_components], \"-o\", label=\"eigen subspace\")\n",
        "        plt.title(\"eigenvalues\")\n",
        "        plt.legend()\n",
        "        plt.show()"
      ],
      "outputs": [],
      "execution_count": null
    },
    {
      "cell_type": "code",
      "metadata": {
        "jukit_cell_id": "FT0wb594Mr"
      },
      "source": [
        "df_num = df[num_columns].copy()\n",
        "scaler = MinMaxScaler()\n",
        "X = scaler.fit_transform(df_num)\n",
        "\n",
        "labels = df.sold_price.values\n",
        "\n",
        "pca = PCA(n_components=2)\n",
        "pca.fit(X)\n",
        "X_new = pca.transform(X)\n",
        "plt.scatter(X_new[:, 0], X_new[:, 1], c=labels, alpha=0.7)\n",
        "plt.show()\n",
        "\n",
        "print(\"eigenvalues\", pca.values)\n",
        "pca.plot_eigvalues()\n",
        "\n",
        "print(\"score:\", pca.score(X))\n",
        "\n",
        "X2 = pca.inverse_transform(X_new)\n",
        "plt.figure(figsize=(12, 4))\n",
        "plt.scatter(X[:, 1], X2[:, 1], alpha=0.7)\n",
        "plt.plot([X[:, 1].min(), X[:, 1].max()], [X[:, 1].min(), X[:, 1].max()], \"r\")\n",
        "plt.xlabel(\"original\")\n",
        "plt.ylabel(\"restored\")"
      ],
      "outputs": [],
      "execution_count": null
    },
    {
      "cell_type": "code",
      "metadata": {
        "jukit_cell_id": "rjOY3rA6A3"
      },
      "source": [
        "fig = plt.figure(figsize=(10, 10))\n",
        "W = pca.components.T\n",
        "pca_names = [\"pca-\" + str(x + 1) for x in range(2)]\n",
        "plt.matshow(W.astype(float), cmap=\"bwr\", vmin=-1, vmax=1, fignum=1)\n",
        "for (i, j), z in np.ndenumerate(W):\n",
        "    plt.text(\n",
        "        j,\n",
        "        i,\n",
        "        \"{:0.2f}\".format(z),\n",
        "        ha=\"center\",\n",
        "        va=\"center\",\n",
        "        color=\"k\",\n",
        "        fontsize=\"xx-large\",\n",
        "    )\n",
        "plt.xticks(np.arange(0, W.shape[1]), df[num_columns].columns, rotation=45)\n",
        "plt.yticks(np.arange(0, W.shape[0]), pca_names)\n",
        "plt.colorbar()"
      ],
      "outputs": [],
      "execution_count": null
    }
  ],
  "metadata": {
    "anaconda-cloud": {},
    "kernelspec": {
      "display_name": "python",
      "language": "python",
      "name": "python3"
    }
  },
  "nbformat": 4,
  "nbformat_minor": 4
}