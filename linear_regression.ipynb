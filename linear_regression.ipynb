{
  "cells": [
    {
      "cell_type": "code",
      "metadata": {
        "jukit_cell_id": "vncgIZ2R8t"
      },
      "source": [],
      "outputs": [],
      "execution_count": null
    },
    {
      "cell_type": "code",
      "metadata": {
        "jukit_cell_id": "VH9sm5cQh6"
      },
      "source": [
        "import pandas as pd\n",
        "import numpy as np\n",
        "import matplotlib.pyplot as plt\n",
        "import seaborn as sns\n",
        "\n",
        "from sklearn.model_selection import train_test_split\n",
        "from sklearn.preprocessing import MinMaxScaler\n",
        "from sklearn.preprocessing import StandardScaler"
      ],
      "outputs": [],
      "execution_count": null
    },
    {
      "cell_type": "code",
      "metadata": {
        "jukit_cell_id": "jQU6Hvj1a8"
      },
      "source": [
        "df = pd.read_csv(\n",
        "    \"D:\\\\testfolder\\\\test_exercise\\\\output_data\\\\sold_flats_cat_num.csv\", delimiter=\",\"\n",
        ")"
      ],
      "outputs": [],
      "execution_count": null
    },
    {
      "cell_type": "code",
      "metadata": {
        "jukit_cell_id": "eAwUQ6Y18x"
      },
      "source": [
        "cat_columns = [\n",
        "    \"city_id\",\n",
        "    \"district_id\",\n",
        "    \"street_id\",\n",
        "    \"date_sold\",\n",
        "    \"metro_station_id\",\n",
        "    \"flat_on_floor\",\n",
        "    \"builder_id\",\n",
        "    \"type\",\n",
        "    \"bathroom\",\n",
        "    \"plate\",\n",
        "    \"windows\",\n",
        "    \"keep\",\n",
        "    \"series_id\",\n",
        "    \"wall_id\",\n",
        "    \"balcon\",\n",
        "    \"closed_yard\",\n",
        "    \"date_sold\",\n",
        "]\n",
        "num_columns = [\n",
        "    \"price\",\n",
        "    \"sold_price\",\n",
        "    \"floor_num\",\n",
        "    \"floors_cnt\",\n",
        "    \"rooms_cnt\",\n",
        "    \"bedrooms_cnt\",\n",
        "    \"building_year\",\n",
        "    \"area_total\",\n",
        "    \"area_live\",\n",
        "    \"area_kitchen\",\n",
        "    \"area_balcony\",\n",
        "    \"levels_count\",\n",
        "    \"bathrooms_cnt\",\n",
        "    \"ceiling_height\",\n",
        "]"
      ],
      "outputs": [],
      "execution_count": null
    },
    {
      "cell_type": "code",
      "metadata": {
        "jukit_cell_id": "kxKPvU7fbM"
      },
      "source": [
        "df_num = df[num_columns].copy()\n",
        "\n",
        "df_num.info()\n",
        "\n",
        "X, y = (\n",
        "    df_num.drop(columns=[\"price\", \"floors_cnt\", \"levels_count\"]).values,\n",
        "    df_num[\"sold_price\"].values,\n",
        ")\n",
        "\n",
        "features_names = df_num.drop(columns=[\"sold_price\"]).columns\n",
        "\n",
        "X_train, X_test, y_train, y_test = train_test_split(\n",
        "    X, y, test_size=0.3, random_state=42\n",
        ")\n",
        "\n",
        "scaler = MinMaxScaler()\n",
        "scaler.fit_transform(X_train)\n",
        "X_train = scaler.transform(X_train)\n",
        "X_test = scaler.transform(X_test)\n",
        "\n",
        "pd.DataFrame(X_train).tail()"
      ],
      "outputs": [],
      "execution_count": null
    },
    {
      "cell_type": "code",
      "metadata": {
        "jukit_cell_id": "7k7m9HsiwW"
      },
      "source": [
        "def forward(weights, inputs):\n",
        "    return inputs.dot(weights.T)\n",
        "\n",
        "\n",
        "def loss_func(predicts, labels):\n",
        "    return np.square(predicts - labels)"
      ],
      "outputs": [],
      "execution_count": null
    },
    {
      "cell_type": "code",
      "metadata": {
        "jukit_cell_id": "kvASLMdfLv"
      },
      "source": [
        "weights = np.random.randn(X.shape[1])\n",
        "print(weights)\n",
        "yhat = forward(weights, X_train[0])\n",
        "loss = np.sqrt(loss_func(yhat, y[0]))\n",
        "print(yhat, y[0], loss)"
      ],
      "outputs": [],
      "execution_count": null
    },
    {
      "cell_type": "code",
      "metadata": {
        "jukit_cell_id": "td93smrzfI"
      },
      "source": [
        "decline = np.linspace(start=0.5, stop=1.5, num=11)\n",
        "yhat = decline * y[0]\n",
        "loss = loss_func(yhat, y[0])\n",
        "plt.plot(decline, loss, \"-o\")"
      ],
      "outputs": [],
      "execution_count": null
    },
    {
      "cell_type": "code",
      "metadata": {
        "jukit_cell_id": "Z3AHHxO6vy"
      },
      "source": [
        "def grad_loss(predicts, labels, inputs):\n",
        "    return 2 * (predicts - labels) * inputs / inputs.size"
      ],
      "outputs": [],
      "execution_count": null
    },
    {
      "cell_type": "code",
      "metadata": {
        "jukit_cell_id": "UHLbBn7chm"
      },
      "source": [
        "weights = np.random.randn(X.shape[1])\n",
        "yhat = forward(weights, X_train[0])\n",
        "print(weights)\n",
        "grad = grad_loss(yhat, y[0], X[0])\n",
        "print(grad)"
      ],
      "outputs": [],
      "execution_count": null
    },
    {
      "cell_type": "code",
      "metadata": {
        "jukit_cell_id": "im4dQ8W9Jr"
      },
      "source": [
        "def update_weights(grad, weights, lerning_rate):\n",
        "    return weights - lerning_rate * grad"
      ],
      "outputs": [],
      "execution_count": null
    },
    {
      "cell_type": "code",
      "metadata": {
        "jukit_cell_id": "8mK0592NnA"
      },
      "source": [
        "lerning_rate = 0.01\n",
        "weights = update_weights(grad, weights, lerning_rate)\n",
        "print(weights)"
      ],
      "outputs": [],
      "execution_count": null
    },
    {
      "cell_type": "code",
      "metadata": {
        "jukit_cell_id": "cKJ0Ae8O52"
      },
      "source": [
        "def weights_init(weights, random_state=42):\n",
        "    if np.ndim(weights) < 1:\n",
        "        weights = np.zeros(weights)\n",
        "\n",
        "    np.random.seed(random_state)\n",
        "    return np.random.randn(*weights.shape) / np.sqrt(weights.size)"
      ],
      "outputs": [],
      "execution_count": null
    },
    {
      "cell_type": "code",
      "metadata": {
        "jukit_cell_id": "xdlnOIrnyx"
      },
      "source": [
        "weights = weights_init(X_train.shape[1], random_state=42)\n",
        "weights"
      ],
      "outputs": [],
      "execution_count": null
    },
    {
      "cell_type": "code",
      "metadata": {
        "jukit_cell_id": "efFZkNZ9Qz"
      },
      "source": [
        "def fit(X, y, weights, lr, epochs=30):\n",
        "    cost = np.zeros(epochs)\n",
        "    for i in range(epochs):\n",
        "        grad = np.zeros(weights.shape)\n",
        "        loss = 0\n",
        "\n",
        "        for m in range(X.shape[0]):\n",
        "            yhat = forward(weights, X[m, :])\n",
        "            grad += grad_loss(yhat, y[m], X[m, :])\n",
        "            loss += loss_func(yhat, y[m])\n",
        "\n",
        "        weights = update_weights(grad / X.shape[0], weights, lr)\n",
        "        cost[i] = loss / X.shape[0]\n",
        "\n",
        "    return weights, cost"
      ],
      "outputs": [],
      "execution_count": null
    },
    {
      "cell_type": "code",
      "metadata": {
        "jukit_cell_id": "co6XnyWOuJ"
      },
      "source": [
        "weights = weights_init(X_train.shape[1], random_state=42)\n",
        "\n",
        "weights, cost = fit(X_train, y_train, weights, lr=0.9, epochs=100)\n",
        "\n",
        "plt.plot(cost, \"-*\")"
      ],
      "outputs": [],
      "execution_count": null
    },
    {
      "cell_type": "code",
      "metadata": {
        "jukit_cell_id": "ELdXJiIMsv"
      },
      "source": [
        "def predict(weights, inputs):\n",
        "    yhat = np.zeros(inputs.shape[0])\n",
        "\n",
        "    for m in range(inputs.shape[0]):\n",
        "        yhat[m] = inputs[m, :].dot(weights.T)\n",
        "\n",
        "    return yhat"
      ],
      "outputs": [],
      "execution_count": null
    },
    {
      "cell_type": "code",
      "metadata": {
        "jukit_cell_id": "alxEIVEuz5"
      },
      "source": [
        "yhat = predict(weights, X_test)\n",
        "plt.plot(y_test, label=\"original\")\n",
        "plt.plot(yhat, label=\"predicted\")"
      ],
      "outputs": [],
      "execution_count": null
    },
    {
      "cell_type": "code",
      "metadata": {
        "jukit_cell_id": "3fxexagQNy"
      },
      "source": [
        "plt.scatter(y_test, yhat, alpha=0.7)\n",
        "plt.plot([y_test.min(), y_test.max()], [y_test.min(), y_test.max()], \"r\")\n",
        "plt.xlabel(\"original\")\n",
        "plt.ylabel(\"predicted\")"
      ],
      "outputs": [],
      "execution_count": null
    },
    {
      "cell_type": "code",
      "metadata": {
        "jukit_cell_id": "3brGHs1Yab"
      },
      "source": [
        "def r2_score(weights, inputs, labels):\n",
        "    predicts = predict(weights, inputs)\n",
        "    return 1 - np.sum(np.square(labels - predicts)) / np.sum(\n",
        "        np.square(labels - np.mean(labels))\n",
        "    )"
      ],
      "outputs": [],
      "execution_count": null
    },
    {
      "cell_type": "code",
      "metadata": {
        "jukit_cell_id": "ld1GTMeYqa"
      },
      "source": [
        "r2_score(weights, X_test, y_test)"
      ],
      "outputs": [],
      "execution_count": null
    },
    {
      "cell_type": "code",
      "metadata": {
        "jukit_cell_id": "C7Ef4GCzJ8"
      },
      "source": [
        "BATCH = 5000\n",
        "\n",
        "\n",
        "def fit_SGD(X, y, weights, lr, epochs=30, batch_size=BATCH, random_state=42):\n",
        "    np.random.seed(random_state)\n",
        "\n",
        "    cost = np.zeros(epochs)\n",
        "    for i in range(epochs):\n",
        "        grad = np.zeros(weights.shape)\n",
        "        loss = 0\n",
        "\n",
        "        idx_batch = np.random.randint(0, X.shape[0], batch_size)\n",
        "        x_batch = np.take(X, idx_batch, axis=0)\n",
        "        y_batch = np.take(y, idx_batch)\n",
        "\n",
        "        for m in range(batch_size):\n",
        "            yhat = forward(weights, x_batch[m, :])\n",
        "            grad += grad_loss(yhat, y_batch[m], x_batch[m, :])\n",
        "            loss += loss_func(yhat, y_batch[m])\n",
        "\n",
        "        weights = update_weights(grad / batch_size, weights, lr)\n",
        "        cost[i] = loss / batch_size\n",
        "\n",
        "    return weights, cost"
      ],
      "outputs": [],
      "execution_count": null
    },
    {
      "cell_type": "code",
      "metadata": {
        "jukit_cell_id": "tJ0Q4sOZFt"
      },
      "source": [
        "weights = weights_init(X_train.shape[1], random_state=42)\n",
        "\n",
        "weights, cost = fit_SGD(X_train, y_train, weights, lr=0.7, epochs=300)\n",
        "\n",
        "plt.plot(cost, \"-*\")\n",
        "\n",
        "print(r2_score(weights, X_test, y_test))"
      ],
      "outputs": [],
      "execution_count": null
    },
    {
      "cell_type": "code",
      "metadata": {
        "jukit_cell_id": "UtRK0qWU9V"
      },
      "source": [
        "class LinearRegression:\n",
        "    def __init__(\n",
        "        self,\n",
        "        learning_rate=0.5,\n",
        "        epochs=100,\n",
        "        weights=None,\n",
        "        bias=None,\n",
        "        batch_size=1000,\n",
        "        random_state=42,\n",
        "    ):\n",
        "        self.lr = learning_rate\n",
        "        self.epochs = epochs\n",
        "        self.weights = weights\n",
        "        self.bias = bias\n",
        "        self.seed = random_state\n",
        "        self.batch_size = batch_size\n",
        "        self.cost = np.zeros(epochs)\n",
        "\n",
        "        # \u0435\u0441\u043b\u0438 \u0432\u0435\u0441\u0430 \u0438 \u0441\u043c\u0435\u0449\u0435\u043d\u0438\u044f \u0437\u0430\u0434\u0430\u043d\u044b\n",
        "        if not (self.weights is None) and (self.bias):\n",
        "            if self.weights.size == X.shape[1]:\n",
        "                # \u0441\u043e\u0432\u043c\u0435\u0449\u0430\u0435\u043c \u0432 \u043e\u0434\u0438\u043d \u043c\u0430\u0441\u0441\u0438\u0432, \u0435\u0441\u043b\u0438 \u043c\u044b \u044d\u0442\u043e\u0433\u043e \u043d\u0435 \u0441\u0434\u0435\u043b\u0430\u043b\u0438\n",
        "                self.weights = np.append(self.bias, self.weights)\n",
        "\n",
        "    # ---------------------------------\n",
        "    def forward(self, X):\n",
        "        return self.weights.dot(X.T)\n",
        "\n",
        "    # ---------------------------------\n",
        "    def loss(self, yhat, y):\n",
        "        return np.square(yhat - y).sum() / y.size\n",
        "\n",
        "    # ---------------------------------\n",
        "    def grad_step(self, yhat, y, X):\n",
        "        return 2 * np.dot(X.T, (yhat - y)) / y.size\n",
        "\n",
        "    # ---------------------------------\n",
        "    def update(self):\n",
        "        return self.weights - self.lr * self.grad\n",
        "\n",
        "    # ---------------------------------\n",
        "    def init(self, weights_size):\n",
        "        np.random.seed(self.seed)\n",
        "        return np.random.randn(weights_size) / np.sqrt(weights_size)\n",
        "\n",
        "    # ---------------------------------\n",
        "    def add_bias(self, X):\n",
        "        return np.column_stack((np.ones(X.shape[0]), X))\n",
        "\n",
        "    # ---------------------------------\n",
        "    def predict(self, X):\n",
        "        yhat = self.forward(self.add_bias(X))\n",
        "        return yhat\n",
        "\n",
        "    # ---------------------------------\n",
        "    def score(self, X, y):\n",
        "        yhat = self.predict(X)\n",
        "        return 1 - np.sum(np.square(y - yhat)) / np.sum(np.square(y - np.mean(y)))\n",
        "\n",
        "    # ---------------------------------\n",
        "    def load_batch(self, X, y):\n",
        "        idx_batch = np.random.randint(0, X.shape[0], self.batch_size)\n",
        "        x_batch = np.take(X, idx_batch, axis=0)\n",
        "        x_batch = self.add_bias(x_batch)\n",
        "        y_batch = np.take(y, idx_batch)\n",
        "        return x_batch, y_batch\n",
        "\n",
        "    # ---------------------------------\n",
        "    def fit(self, X, y):\n",
        "        np.random.seed(self.seed)\n",
        "\n",
        "        if self.weights is None:\n",
        "            self.weights = self.init(X.shape[1])\n",
        "\n",
        "        if self.bias is None:\n",
        "            self.bias = self.init(1)\n",
        "\n",
        "        if self.weights.size == X.shape[1]:\n",
        "            # \u0441\u043e\u0432\u043c\u0435\u0449\u0430\u0435\u043c \u0432 \u043e\u0434\u0438\u043d \u043c\u0430\u0441\u0441\u0438\u0432, \u0435\u0441\u043b\u0438 \u043c\u044b \u044d\u0442\u043e\u0433\u043e \u043d\u0435 \u0441\u0434\u0435\u043b\u0430\u043b\u0438\n",
        "            self.weights = np.append(self.bias, self.weights)\n",
        "\n",
        "        self.grad = np.zeros(self.weights.shape)\n",
        "        self.cost = np.zeros(self.epochs)\n",
        "\n",
        "        if self.batch_size is None:\n",
        "            x_batch = self.add_bias(X)\n",
        "            y_batch = y\n",
        "\n",
        "        for i in range(self.epochs):\n",
        "            if self.batch_size:\n",
        "                x_batch, y_batch = self.load_batch(X, y)\n",
        "\n",
        "            yhat = self.forward(x_batch)\n",
        "            self.grad = self.grad_step(yhat, y_batch, x_batch)\n",
        "            self.weights = self.update()\n",
        "            self.cost[i] = self.loss(yhat, y_batch)\n",
        "\n",
        "        self.bias = self.weights[0]\n",
        "\n",
        "    # ---------------------------------\n",
        "    def plot_cost(self, figsize=(12, 6)):\n",
        "        plt.figure(figsize=figsize)\n",
        "        plt.plot(self.cost, \"-*\")\n",
        "        plt.show()\n",
        "\n",
        "    # ---------------------------------\n",
        "    def get_w_and_b(self):\n",
        "        return (self.weights[1:], self.bias)"
      ],
      "outputs": [],
      "execution_count": null
    },
    {
      "cell_type": "markdown",
      "metadata": {
        "jukit_cell_id": "AlqzjFZk51"
      },
      "source": [
        "#Test if we overdid model"
      ]
    },
    {
      "cell_type": "code",
      "metadata": {
        "jukit_cell_id": "HfKiSbG8fA"
      },
      "source": [
        "regr = LinearRegression(learning_rate=0.5, epochs=300, batch_size=3000)\n",
        "regr.fit(X_train, y_train)\n",
        "\n",
        "regr.plot_cost()\n",
        "\n",
        "print(\n",
        "    \"train R2: %.4f; test R2: %.4f\"\n",
        "    % (regr.score(X_train, y_train), regr.score(X_test, y_test))\n",
        ")"
      ],
      "outputs": [],
      "execution_count": null
    },
    {
      "cell_type": "code",
      "metadata": {
        "jukit_cell_id": "BNVImKgPLl"
      },
      "source": [
        "w, b = regr.get_w_and_b()\n",
        "plt.bar(x=range(w.size), height=w)\n",
        "\n",
        "plt.xticks(range(13), features_names, rotation=45)"
      ],
      "outputs": [],
      "execution_count": null
    }
  ],
  "metadata": {
    "anaconda-cloud": {},
    "kernelspec": {
      "display_name": "python",
      "language": "python",
      "name": "python3"
    }
  },
  "nbformat": 4,
  "nbformat_minor": 4
}