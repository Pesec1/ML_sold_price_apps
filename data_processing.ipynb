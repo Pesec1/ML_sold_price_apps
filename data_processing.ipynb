{
  "cells": [
    {
      "cell_type": "code",
      "metadata": {
        "jukit_cell_id": "p1ddiJBQIJ"
      },
      "source": [],
      "outputs": [],
      "execution_count": null
    },
    {
      "cell_type": "markdown",
      "metadata": {
        "jukit_cell_id": "lGqkjAojdm"
      },
      "source": [
        "Imports"
      ]
    },
    {
      "cell_type": "code",
      "metadata": {
        "jukit_cell_id": "3i70Gp4h3z"
      },
      "source": [
        "import pandas as pd\n",
        "from matplotlib import pyplot as plt\n",
        "import numpy as np\n",
        "import seaborn as sns\n",
        "\n",
        "sns.set()"
      ],
      "outputs": [],
      "execution_count": null
    },
    {
      "cell_type": "markdown",
      "metadata": {
        "jukit_cell_id": "ELzsY1bptO"
      },
      "source": [
        "Read data in CSV file"
      ]
    },
    {
      "cell_type": "code",
      "metadata": {
        "jukit_cell_id": "TW2SMCMQdy"
      },
      "source": [
        "df_main = pd.read_csv(\"input_data/sold_flats_2020-09-30.csv\")\n",
        "df_main"
      ],
      "outputs": [],
      "execution_count": null
    },
    {
      "cell_type": "code",
      "metadata": {
        "jukit_cell_id": "y4jIEeJSM3"
      },
      "source": [
        "df_main.info()"
      ],
      "outputs": [],
      "execution_count": null
    },
    {
      "cell_type": "markdown",
      "metadata": {
        "jukit_cell_id": "ZnPErXgBW2"
      },
      "source": [
        "Check for duplicates if there are duplicates then clean them"
      ]
    },
    {
      "cell_type": "code",
      "metadata": {
        "jukit_cell_id": "H9gN1WWLQh"
      },
      "source": [
        "df_main.duplicated().sum()"
      ],
      "outputs": [],
      "execution_count": null
    },
    {
      "cell_type": "markdown",
      "metadata": {
        "jukit_cell_id": "hLGKbk3Ou9"
      },
      "source": [
        "Check what columns are cat data, what num date to further analyze data"
      ]
    },
    {
      "cell_type": "code",
      "metadata": {
        "jukit_cell_id": "fJzQc0zT6Z"
      },
      "source": [
        "cat_columns = []\n",
        "num_columns = []\n",
        "\n",
        "for column_name in df_main.columns:\n",
        "    if df_main[column_name].dtypes == object and column_name != \"area_total\":\n",
        "        cat_columns += [column_name]\n",
        "    elif \"id\" in column_name:\n",
        "        cat_columns += [column_name]\n",
        "    else:\n",
        "        num_columns += [column_name]\n",
        "print(f\"Category data {cat_columns}, count columns = {len(cat_columns)} \")\n",
        "print(f\"Numurical date {num_columns}, count columns = {len(num_columns)} \")"
      ],
      "outputs": [],
      "execution_count": null
    },
    {
      "cell_type": "markdown",
      "metadata": {
        "jukit_cell_id": "GRtA8O4DNK"
      },
      "source": [
        "Look at the statistic about num data "
      ]
    },
    {
      "cell_type": "code",
      "metadata": {
        "jukit_cell_id": "NOE6LHTQZk"
      },
      "source": [
        "df_main.describe()"
      ],
      "outputs": [],
      "execution_count": null
    },
    {
      "cell_type": "code",
      "metadata": {
        "jukit_cell_id": "cdvtXPiZbQ"
      },
      "source": [
        "num = 5\n",
        "\n",
        "fig, axes = plt.subplots(5, 5)\n",
        "\n",
        "# Draw histograms on each subplot\n",
        "for i in range(5):\n",
        "    for j in range(5):\n",
        "        column_name = num_columns[i * 5 + j]\n",
        "        sns.histplot(data=df_main, x=column_name, bins=20, ax=axes[i, j])\n",
        "\n",
        "plt.subplots_adjust(hspace=0.5, wspace=0.4)\n",
        "plt.subplot_tool()\n",
        "plt.show()"
      ],
      "outputs": [],
      "execution_count": null
    },
    {
      "cell_type": "code",
      "metadata": {
        "jukit_cell_id": "FNQgbLWbLP"
      },
      "source": [
        "plt.figure(figsize=(15, 6))\n",
        "sns.histplot(data=df_main, x=\"price\", bins=20)"
      ],
      "outputs": [],
      "execution_count": null
    },
    {
      "cell_type": "markdown",
      "metadata": {
        "jukit_cell_id": "EaPCffk4wr"
      },
      "source": [
        "Found that price contains zero, which impossible, so clean data that price is zero"
      ]
    },
    {
      "cell_type": "code",
      "metadata": {
        "jukit_cell_id": "a8meKiYFFv"
      },
      "source": [
        "zero_price_apps = df_main[(df_main.price == 0)]\n",
        "df_main = df_main.drop(zero_price_apps.index)"
      ],
      "outputs": [],
      "execution_count": null
    },
    {
      "cell_type": "code",
      "metadata": {
        "jukit_cell_id": "ABu7ybrp74"
      },
      "source": [
        "plt.figure(figsize=(15, 6))\n",
        "sns.histplot(data=df_main, x=\"price\", bins=20, log_scale=True)"
      ],
      "outputs": [],
      "execution_count": null
    },
    {
      "cell_type": "markdown",
      "metadata": {
        "jukit_cell_id": "bsUyjiYixi"
      },
      "source": [
        "Logically clean data, for example area can't be equal zero"
      ]
    },
    {
      "cell_type": "code",
      "metadata": {
        "jukit_cell_id": "zpCfBe6o1B"
      },
      "source": [
        "zero_square_area = df_main[(df_main.area_total) == 0 | (df_main.area_live == 0)]\n",
        "df_main = df_main.drop(zero_square_area.index)\n",
        "\n",
        "# Status is always sold so it doesn't matter\n",
        "df_main = df_main.drop(columns=[\"status\", \"loggia\"], axis=1)\n",
        "\n",
        "zero_sold_price = df_main[df_main.sold_price == 0]\n",
        "df_main = df_main.drop(zero_sold_price.index)\n",
        "\n",
        "zero_price = df_main[df_main.price == 0]\n",
        "df_main = df_main.drop(zero_price.index)\n",
        "\n",
        "low_ceiling_height = df_main[df_main.ceiling_height < 1]\n",
        "df_main = df_main.drop(low_ceiling_height.index)\n",
        "df_main.reset_index(drop=True)\n",
        "\n",
        "# plt.figure(figsize=(15, 6))\n",
        "# sns.histplot(data=df_main, x=\"area_total\", bins=20, log_scale=True)"
      ],
      "outputs": [],
      "execution_count": null
    },
    {
      "cell_type": "code",
      "metadata": {
        "jukit_cell_id": "j26yz9IiHp"
      },
      "source": [
        "print(df_main.tail())\n",
        "df_main.info()\n",
        "#"
      ],
      "outputs": [],
      "execution_count": null
    },
    {
      "cell_type": "markdown",
      "metadata": {
        "jukit_cell_id": "abM28kyNVe"
      },
      "source": [
        "Clean NAN values"
      ]
    },
    {
      "cell_type": "code",
      "metadata": {
        "jukit_cell_id": "ySJkefc4Ws"
      },
      "source": [
        "df_main = df_main.dropna(\n",
        "    subset=[\n",
        "        \"price\",\n",
        "        \"sold_price\",\n",
        "        \"metro_station_id\",\n",
        "        \"floor_num\",\n",
        "        \"floors_cnt\",\n",
        "        \"wall_id\",\n",
        "    ]\n",
        ")\n",
        "\n",
        "df_main[\"bathrooms_cnt\"] = df_main[\"bathrooms_cnt\"].fillna(1)\n",
        "\n",
        "df_main[\"closed_yard\"] = df_main[\"closed_yard\"].fillna(0)\n",
        "\n",
        "df_main[\"building_year\"] = df_main.groupby(\"series_id\")[\"building_year\"].fillna(\n",
        "    method=\"ffill\"\n",
        ")\n",
        "df_main[\"building_year\"] = df_main.groupby(\"district_id\")[\"building_year\"].fillna(\n",
        "    method=\"ffill\"\n",
        ")\n",
        "df_main[\"building_year\"] = df_main.groupby(\"street_id\")[\"building_year\"].fillna(\n",
        "    method=\"ffill\"\n",
        ")\n",
        "# to not corrupt data further, it is better to get rid of the remaining Nan values for building_year, because it is really importat stat for analyzes\n",
        "# better to drop NAN in keep column because not so many values missing and easy to corrupt\n",
        "df_main = df_main.dropna(subset=[\"building_year\", \"keep\"])\n",
        "df_main.info()\n",
        "\n",
        "# dropping komunal_cost because not enouth data is present to fill. Could fill it by building_id."
      ],
      "outputs": [],
      "execution_count": null
    },
    {
      "cell_type": "code",
      "metadata": {
        "jukit_cell_id": "SmUkqiSbFH"
      },
      "source": [
        "df_main = df_main.drop(columns=[\"longitude\", \"latitude\", \"komunal_cost\"])"
      ],
      "outputs": [],
      "execution_count": null
    },
    {
      "cell_type": "code",
      "metadata": {
        "jukit_cell_id": "mJNxDOygzj"
      },
      "source": [
        "df_main = df_main.dropna(subset=[\"series_id\"])\n",
        "df_main.info()"
      ],
      "outputs": [],
      "execution_count": null
    },
    {
      "cell_type": "code",
      "metadata": {
        "jukit_cell_id": "ouzvXMRdao"
      },
      "source": [
        "df_main[\"rooms_cnt\"] = df_main.groupby(\"area_total\")[\"rooms_cnt\"].fillna(method=\"ffill\")\n",
        "df_main[\"bedrooms_cnt\"] = df_main.groupby(\"area_total\")[\"bedrooms_cnt\"].fillna(\n",
        "    method=\"ffill\"\n",
        ")\n",
        "df_main = df_main.dropna(subset=[\"rooms_cnt\", \"bedrooms_cnt\"])\n",
        "df_main.info()"
      ],
      "outputs": [],
      "execution_count": null
    },
    {
      "cell_type": "code",
      "metadata": {
        "jukit_cell_id": "RxrA4WPe1T"
      },
      "source": [
        "df_main[\"plate\"] = df_main.groupby(\"series_id\")[\"plate\"].fillna(method=\"ffill\")\n",
        "df_main = df_main.dropna(subset=[\"plate\"])\n",
        "\n",
        "df_main.info()"
      ],
      "outputs": [],
      "execution_count": null
    },
    {
      "cell_type": "code",
      "metadata": {
        "jukit_cell_id": "OElTT0Oj0i"
      },
      "source": [
        "df_main = df_main.reset_index(drop=True)\n",
        "for i in range(len(df_main)):\n",
        "    if pd.isnull(df_main.loc[i, \"territory\"]):\n",
        "        # If the territory value is missing, skip the current iteration\n",
        "        pass\n",
        "    else:\n",
        "        elem = df_main.loc[i, \"territory\"]\n",
        "\n",
        "        # Convert the territory string to a list of words\n",
        "        words = elem.split(\",\")\n",
        "\n",
        "        # Count the number of words in the territory string\n",
        "        num_words = len(words)\n",
        "\n",
        "        # Add the number of words to the new territory column\n",
        "        df_main.loc[i, \"territory\"] = num_words"
      ],
      "outputs": [],
      "execution_count": null
    },
    {
      "cell_type": "code",
      "metadata": {
        "jukit_cell_id": "y2qTmmOL77"
      },
      "source": [
        "df_main[\"territory\"] = df_main.groupby(\"series_id\")[\"territory\"].fillna(method=\"ffill\")\n",
        "df_main = df_main.dropna(subset=[\"territory\"])\n",
        "df_main.info()"
      ],
      "outputs": [],
      "execution_count": null
    },
    {
      "cell_type": "code",
      "metadata": {
        "jukit_cell_id": "KJ04yMcGsb"
      },
      "source": [
        "df_main[\"area_balcony\"] = df_main[\"area_balcony\"].str.replace(r\"[^\\d\\-+\\]\", \"\")\n",
        "df_main[\"area_balcony\"] = df_main[\"area_balcony\"].str.replace(\",\", \".\")\n",
        "\n",
        "# Convert all values to float.\n",
        "df_main[\"area_balcony\"] = pd.to_numeric(df_main[\"area_balcony\"], errors=\"coerce\")"
      ],
      "outputs": [],
      "execution_count": null
    },
    {
      "cell_type": "code",
      "metadata": {
        "jukit_cell_id": "F3ou8MH0am"
      },
      "source": [
        "df_main[\"area_balcony\"].fillna(\n",
        "    df_main.groupby(\"series_id\")[\"area_balcony\"].transform(\"mean\"), inplace=True\n",
        ")\n",
        "df_main = df_main.dropna(subset=[\"area_balcony\"])\n",
        "df_main = df_main.reset_index(drop=True)\n",
        "df_main.info()"
      ],
      "outputs": [],
      "execution_count": null
    },
    {
      "cell_type": "code",
      "metadata": {
        "jukit_cell_id": "sJ68PI8JFv"
      },
      "source": [
        "num = 5\n",
        "\n",
        "fig, axes = plt.subplots(6, 6)\n",
        "\n",
        "# Draw histograms on each subplot\n",
        "for i in range(6):\n",
        "    for j in range(6):\n",
        "        column_name = num_columns[i * 5 + j]\n",
        "        sns.histplot(data=df_main, x=column_name, bins=20, ax=axes[i, j])\n",
        "\n",
        "plt.subplots_adjust(hspace=0.5, wspace=0.2)\n",
        "plt.show()"
      ],
      "outputs": [],
      "execution_count": null
    },
    {
      "cell_type": "code",
      "metadata": {
        "jukit_cell_id": "jzVpsE1F1w"
      },
      "source": [
        "plt.figure(figsize=(15, 6))\n",
        "sns.histplot(data=df_main, x=\"price\", bins=20, log_scale=True)"
      ],
      "outputs": [],
      "execution_count": null
    },
    {
      "cell_type": "code",
      "metadata": {
        "jukit_cell_id": "WnihlhGszj"
      },
      "source": [
        "# Histogram analyse\n",
        "question_price = df_main[(df_main.price > 1e4)]\n",
        "df_main = df_main.drop(question_price.index)"
      ],
      "outputs": [],
      "execution_count": null
    },
    {
      "cell_type": "code",
      "metadata": {
        "jukit_cell_id": "SKzhLNmkkv"
      },
      "source": [
        "plt.figure(figsize=(15, 6))\n",
        "sns.histplot(data=df_main, x=\"sold_price\", bins=20, log_scale=True)"
      ],
      "outputs": [],
      "execution_count": null
    },
    {
      "cell_type": "code",
      "metadata": {
        "jukit_cell_id": "vzoPZQfcZZ"
      },
      "source": [
        "question_price_sold = df_main[(df_main.sold_price > 1e4)]\n",
        "df_main = df_main.drop(question_price_sold.index)"
      ],
      "outputs": [],
      "execution_count": null
    },
    {
      "cell_type": "code",
      "metadata": {
        "jukit_cell_id": "B09vewk4Fi"
      },
      "source": [
        "plt.figure(figsize=(15, 6))\n",
        "sns.histplot(data=df_main, x=\"area_total\", bins=20, log_scale=True)"
      ],
      "outputs": [],
      "execution_count": null
    },
    {
      "cell_type": "code",
      "metadata": {
        "jukit_cell_id": "RctrxEeFqq"
      },
      "source": [
        "question_area_total = df_main[(df_main.area_total < 1e1) | (df_main.area_total > 1e2)]\n",
        "df_main = df_main.drop(question_area_total.index)"
      ],
      "outputs": [],
      "execution_count": null
    },
    {
      "cell_type": "code",
      "metadata": {
        "jukit_cell_id": "usjePduczF"
      },
      "source": [
        "width = 6\n",
        "height = int(np.ceil(len(num_columns) / width))\n",
        "fig, ax = plt.subplots(nrows=height, ncols=width, figsize=(16, 8))\n",
        "\n",
        "for idx, column_name in enumerate(num_columns):\n",
        "    plt.subplot(height, width, idx + 1)\n",
        "    print(column_name)\n",
        "    sns.histplot(\n",
        "        data=df_main,\n",
        "        x=column_name,\n",
        "        bins=20,\n",
        "    )"
      ],
      "outputs": [],
      "execution_count": null
    },
    {
      "cell_type": "markdown",
      "metadata": {
        "jukit_cell_id": "y7JFdpFDpT"
      },
      "source": [
        "Further analys of data, to see what we missed on previous steps"
      ]
    },
    {
      "cell_type": "code",
      "metadata": {
        "jukit_cell_id": "otXXY24Pzf"
      },
      "source": [
        "fig, ax = plt.subplots(nrows=5, ncols=4, figsize=(10, 20))\n",
        "\n",
        "for idx, column_name in enumerate(num_columns):\n",
        "    plt.subplot(5, 4, idx + 1)\n",
        "    sns.boxplot(data=df_main, x=column_name)"
      ],
      "outputs": [],
      "execution_count": null
    },
    {
      "cell_type": "code",
      "metadata": {
        "jukit_cell_id": "0KjY3ipS40"
      },
      "source": [
        "question_flat_floor = df_main[df_main.flat_on_floor > 180]\n",
        "df_main = df_main.drop(question_flat_floor.index)\n",
        "\n",
        "question_floors_cnt = df_main[df_main.floors_cnt > 38]\n",
        "df_main = df_main.drop(question_floors_cnt.index)\n",
        "\n",
        "question_rooms_cnt = df_main[df_main.rooms_cnt > 20]\n",
        "df_main = df_main.drop(question_rooms_cnt.index)\n",
        "\n",
        "question_bedrooms_cnt = df_main[df_main.bedrooms_cnt > 40]\n",
        "df_main = df_main.drop(question_bedrooms_cnt.index)\n",
        "\n",
        "question_building_year = df_main[df_main.building_year < 1900]\n",
        "df_main = df_main.drop(question_building_year.index)\n",
        "\n",
        "question_area_live = df_main[df_main.area_live > 110]\n",
        "df_main = df_main.drop(question_area_live.index)\n",
        "\n",
        "question_area_kitchen = df_main[df_main.area_kitchen > 45]\n",
        "df_main = df_main.drop(question_area_kitchen.index)\n",
        "\n",
        "df_main.info()"
      ],
      "outputs": [],
      "execution_count": null
    },
    {
      "cell_type": "code",
      "metadata": {
        "jukit_cell_id": "xDV8uStRh7"
      },
      "source": [
        "fig, ax = plt.subplots(nrows=5, ncols=4, figsize=(10, 20))\n",
        "\n",
        "for idx, column_name in enumerate(num_columns):\n",
        "    plt.subplot(5, 4, idx + 1)\n",
        "    sns.boxplot(data=df_main, x=column_name)"
      ],
      "outputs": [],
      "execution_count": null
    },
    {
      "cell_type": "code",
      "metadata": {
        "jukit_cell_id": "wqk70DYBCA"
      },
      "source": [
        "cat_columns = []\n",
        "num_columns = []\n",
        "\n",
        "for column_name in df_main.columns:\n",
        "    if df_main[column_name].dtypes == object and column_name != \"area_total\":\n",
        "        cat_columns += [column_name]\n",
        "    elif \"id\" in column_name:\n",
        "        cat_columns += [column_name]\n",
        "    else:\n",
        "        num_columns += [column_name]\n",
        "cm = sns.color_palette(\"vlag\", as_cmap=True)\n",
        "\n",
        "\n",
        "df2 = df_main[num_columns].corr().style.background_gradient(cmap=cm, vmin=-1, vmax=1)\n",
        "df2.to_html()"
      ],
      "outputs": [],
      "execution_count": null
    },
    {
      "cell_type": "code",
      "metadata": {
        "jukit_cell_id": "nL3wzcTizW"
      },
      "source": [
        "df_main[cat_columns].nunique()"
      ],
      "outputs": [],
      "execution_count": null
    },
    {
      "cell_type": "code",
      "metadata": {
        "jukit_cell_id": "e8NQb2FUhU"
      },
      "source": [
        "counts = df_main.city_id.value_counts()\n",
        "counts.median()\n",
        "\n",
        "counts[counts < 100]"
      ],
      "outputs": [],
      "execution_count": null
    },
    {
      "cell_type": "code",
      "metadata": {
        "jukit_cell_id": "PUnPW8v2cj"
      },
      "source": [
        "rare = counts[(counts.values < 25)]\n",
        "df_main[\"city_id\"] = df_main[\"city_id\"].replace(rare.index, \"Rare\")\n",
        "df_main.city_id.value_counts()"
      ],
      "outputs": [],
      "execution_count": null
    },
    {
      "cell_type": "code",
      "metadata": {
        "jukit_cell_id": "3FTumtphaj"
      },
      "source": [
        "counts = df_main.district_id.value_counts()\n",
        "counts.median()\n",
        "\n",
        "counts[counts < 100]"
      ],
      "outputs": [],
      "execution_count": null
    },
    {
      "cell_type": "code",
      "metadata": {
        "jukit_cell_id": "3sLrb09cSz"
      },
      "source": [
        "rare = counts[(counts.values < 20)]\n",
        "df_main[\"district_id\"] = df_main[\"district_id\"].replace(rare.index, \"Rare\")\n",
        "df_main.district_id.value_counts()"
      ],
      "outputs": [],
      "execution_count": null
    },
    {
      "cell_type": "code",
      "metadata": {
        "jukit_cell_id": "WtuoHy8a7s"
      },
      "source": [
        "counts = df_main.street_id.value_counts()\n",
        "counts.median()\n",
        "\n",
        "counts[counts < 100]"
      ],
      "outputs": [],
      "execution_count": null
    },
    {
      "cell_type": "code",
      "metadata": {
        "jukit_cell_id": "hgtNua5fai"
      },
      "source": [
        "rare = counts[(counts.values < 20)]\n",
        "df_main[\"street_id\"] = df_main[\"street_id\"].replace(rare.index, \"Rare\")\n",
        "df_main.street_id.value_counts()"
      ],
      "outputs": [],
      "execution_count": null
    },
    {
      "cell_type": "code",
      "metadata": {
        "jukit_cell_id": "1zACX9RXuW"
      },
      "source": [
        "counts = df_main.metro_station_id.value_counts()\n",
        "counts.median()\n",
        "\n",
        "counts[counts < 100]"
      ],
      "outputs": [],
      "execution_count": null
    },
    {
      "cell_type": "code",
      "metadata": {
        "jukit_cell_id": "us5b8K9bjr"
      },
      "source": [
        "rare = counts[(counts.values < 20)]\n",
        "df_main[\"metro_staton_id\"] = df_main[\"metro_station_id\"].replace(rare.index, \"Rare\")\n",
        "df_main.metro_station_id.value_counts()"
      ],
      "outputs": [],
      "execution_count": null
    },
    {
      "cell_type": "code",
      "metadata": {
        "jukit_cell_id": "BgRwl9tmxN"
      },
      "source": [
        "counts = df_main.builder_id.value_counts()\n",
        "counts.median()\n",
        "\n",
        "counts[counts < 100]"
      ],
      "outputs": [],
      "execution_count": null
    },
    {
      "cell_type": "code",
      "metadata": {
        "jukit_cell_id": "hqDi5aAxsF"
      },
      "source": [
        "rare = counts[(counts.values < 5)]\n",
        "df_main[\"builder_id\"] = df_main[\"builder_id\"].replace(rare.index, \"Rare\")\n",
        "df_main.builder_id.value_counts()"
      ],
      "outputs": [],
      "execution_count": null
    },
    {
      "cell_type": "markdown",
      "metadata": {
        "jukit_cell_id": "q4f2nmaLcK"
      },
      "source": [
        "Saving)))))))))))))))))))))))))))))))))))))))))))))))))))))))))))))))))))))))))))))))))))))))))))))))))))))))))))))))))))GG)"
      ]
    },
    {
      "cell_type": "code",
      "metadata": {
        "jukit_cell_id": "PgIDxtKuIV"
      },
      "source": [
        "df_main.to_csv(\n",
        "    \"D:\\\\testfolder\\\\test_exercise\\\\output_data\\\\sold_flats_veryyyy_clean2.csv\",\n",
        "    index=False,\n",
        ")"
      ],
      "outputs": [],
      "execution_count": null
    },
    {
      "cell_type": "code",
      "metadata": {
        "jukit_cell_id": "xz4vvOyK5H"
      },
      "source": [
        "df_main[\"closed_yard\"] = df_main[\"closed_yard\"].map({\"yes\": 1, \"no\": 0})"
      ],
      "outputs": [],
      "execution_count": null
    },
    {
      "cell_type": "code",
      "metadata": {
        "jukit_cell_id": "GlfA3Ksu6B"
      },
      "source": [
        "df_se = df_main.copy()\n",
        "df_se[cat_columns] = df_se[cat_columns].astype(\"category\")\n",
        "\n",
        "for _, column_name in enumerate(cat_columns):\n",
        "    df_se[column_name] = df_se[column_name].cat.codes\n",
        "\n",
        "df_se.info()"
      ],
      "outputs": [],
      "execution_count": null
    },
    {
      "cell_type": "code",
      "metadata": {
        "jukit_cell_id": "goHKf0Js15"
      },
      "source": [
        "df_se.head()"
      ],
      "outputs": [],
      "execution_count": null
    },
    {
      "cell_type": "code",
      "metadata": {
        "jukit_cell_id": "uEY2thQPBM"
      },
      "source": [
        "# takes too long to plot\n",
        "# sns.pairplot(data=df_se.sample(500), hue=\"type\")"
      ],
      "outputs": [],
      "execution_count": null
    }
  ],
  "metadata": {
    "anaconda-cloud": {},
    "kernelspec": {
      "display_name": "python",
      "language": "python",
      "name": "python3"
    }
  },
  "nbformat": 4,
  "nbformat_minor": 4
}